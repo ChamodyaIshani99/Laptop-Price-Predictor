{
 "cells": [
  {
   "cell_type": "code",
   "execution_count": 1,
   "id": "507eae94-9b4f-43de-899d-a06df4aa6187",
   "metadata": {},
   "outputs": [
    {
     "name": "stdout",
     "output_type": "stream",
     "text": [
      "Collecting numpy\n",
      "  Downloading numpy-2.3.3-cp312-cp312-win_amd64.whl.metadata (60 kB)\n",
      "Downloading numpy-2.3.3-cp312-cp312-win_amd64.whl (12.8 MB)\n",
      "   ---------------------------------------- 0.0/12.8 MB ? eta -:--:--\n",
      "    --------------------------------------- 0.3/12.8 MB ? eta -:--:--\n",
      "   --- ------------------------------------ 1.0/12.8 MB 4.2 MB/s eta 0:00:03\n",
      "   ----- ---------------------------------- 1.8/12.8 MB 3.5 MB/s eta 0:00:04\n",
      "   ------- -------------------------------- 2.4/12.8 MB 3.7 MB/s eta 0:00:03\n",
      "   --------- ------------------------------ 2.9/12.8 MB 3.2 MB/s eta 0:00:04\n",
      "   ---------- ----------------------------- 3.4/12.8 MB 3.0 MB/s eta 0:00:04\n",
      "   ----------- ---------------------------- 3.7/12.8 MB 2.8 MB/s eta 0:00:04\n",
      "   ------------- -------------------------- 4.2/12.8 MB 2.6 MB/s eta 0:00:04\n",
      "   --------------- ------------------------ 5.0/12.8 MB 2.7 MB/s eta 0:00:03\n",
      "   ----------------- ---------------------- 5.5/12.8 MB 2.8 MB/s eta 0:00:03\n",
      "   ------------------ --------------------- 6.0/12.8 MB 2.7 MB/s eta 0:00:03\n",
      "   -------------------- ------------------- 6.6/12.8 MB 2.8 MB/s eta 0:00:03\n",
      "   ---------------------- ----------------- 7.3/12.8 MB 2.8 MB/s eta 0:00:02\n",
      "   ------------------------ --------------- 7.9/12.8 MB 2.8 MB/s eta 0:00:02\n",
      "   -------------------------- ------------- 8.4/12.8 MB 2.8 MB/s eta 0:00:02\n",
      "   ---------------------------- ----------- 9.2/12.8 MB 2.8 MB/s eta 0:00:02\n",
      "   ------------------------------ --------- 9.7/12.8 MB 2.8 MB/s eta 0:00:02\n",
      "   ------------------------------- -------- 10.0/12.8 MB 2.8 MB/s eta 0:00:02\n",
      "   ------------------------------- -------- 10.2/12.8 MB 2.7 MB/s eta 0:00:01\n",
      "   --------------------------------- ------ 10.7/12.8 MB 2.7 MB/s eta 0:00:01\n",
      "   ----------------------------------- ---- 11.3/12.8 MB 2.6 MB/s eta 0:00:01\n",
      "   ------------------------------------- -- 12.1/12.8 MB 2.7 MB/s eta 0:00:01\n",
      "   ---------------------------------------  12.6/12.8 MB 2.7 MB/s eta 0:00:01\n",
      "   ---------------------------------------- 12.8/12.8 MB 2.7 MB/s eta 0:00:00\n",
      "Installing collected packages: numpy\n",
      "Successfully installed numpy-2.3.3\n"
     ]
    },
    {
     "name": "stderr",
     "output_type": "stream",
     "text": [
      "\n",
      "[notice] A new release of pip is available: 24.3.1 -> 25.2\n",
      "[notice] To update, run: python.exe -m pip install --upgrade pip\n"
     ]
    },
    {
     "name": "stdout",
     "output_type": "stream",
     "text": [
      "Collecting pandas\n",
      "  Downloading pandas-2.3.3-cp312-cp312-win_amd64.whl.metadata (19 kB)\n",
      "Requirement already satisfied: numpy>=1.26.0 in d:\\simpleproject\\laptoppricepredictor\\model\\env\\lib\\site-packages (from pandas) (2.3.3)\n",
      "Requirement already satisfied: python-dateutil>=2.8.2 in d:\\simpleproject\\laptoppricepredictor\\model\\env\\lib\\site-packages (from pandas) (2.9.0.post0)\n",
      "Collecting pytz>=2020.1 (from pandas)\n",
      "  Downloading pytz-2025.2-py2.py3-none-any.whl.metadata (22 kB)\n",
      "Collecting tzdata>=2022.7 (from pandas)\n",
      "  Downloading tzdata-2025.2-py2.py3-none-any.whl.metadata (1.4 kB)\n",
      "Requirement already satisfied: six>=1.5 in d:\\simpleproject\\laptoppricepredictor\\model\\env\\lib\\site-packages (from python-dateutil>=2.8.2->pandas) (1.17.0)\n",
      "Downloading pandas-2.3.3-cp312-cp312-win_amd64.whl (11.0 MB)\n",
      "   ---------------------------------------- 0.0/11.0 MB ? eta -:--:--\n",
      "    --------------------------------------- 0.3/11.0 MB ? eta -:--:--\n",
      "   - -------------------------------------- 0.5/11.0 MB 2.4 MB/s eta 0:00:05\n",
      "   -- ------------------------------------- 0.8/11.0 MB 1.5 MB/s eta 0:00:07\n",
      "   -- ------------------------------------- 0.8/11.0 MB 1.5 MB/s eta 0:00:07\n",
      "   ---- ----------------------------------- 1.3/11.0 MB 1.4 MB/s eta 0:00:07\n",
      "   ----- ---------------------------------- 1.6/11.0 MB 1.4 MB/s eta 0:00:07\n",
      "   ------ --------------------------------- 1.8/11.0 MB 1.4 MB/s eta 0:00:07\n",
      "   -------- ------------------------------- 2.4/11.0 MB 1.5 MB/s eta 0:00:06\n",
      "   ---------- ----------------------------- 2.9/11.0 MB 1.6 MB/s eta 0:00:05\n",
      "   ----------- ---------------------------- 3.1/11.0 MB 1.6 MB/s eta 0:00:05\n",
      "   ------------ --------------------------- 3.4/11.0 MB 1.6 MB/s eta 0:00:05\n",
      "   ------------- -------------------------- 3.7/11.0 MB 1.6 MB/s eta 0:00:05\n",
      "   -------------- ------------------------- 3.9/11.0 MB 1.6 MB/s eta 0:00:05\n",
      "   --------------- ------------------------ 4.2/11.0 MB 1.5 MB/s eta 0:00:05\n",
      "   ---------------- ----------------------- 4.5/11.0 MB 1.5 MB/s eta 0:00:05\n",
      "   ------------------ --------------------- 5.0/11.0 MB 1.5 MB/s eta 0:00:04\n",
      "   -------------------- ------------------- 5.5/11.0 MB 1.6 MB/s eta 0:00:04\n",
      "   --------------------- ------------------ 6.0/11.0 MB 1.7 MB/s eta 0:00:03\n",
      "   ---------------------- ----------------- 6.3/11.0 MB 1.7 MB/s eta 0:00:03\n",
      "   ------------------------- -------------- 7.1/11.0 MB 1.7 MB/s eta 0:00:03\n",
      "   --------------------------- ------------ 7.6/11.0 MB 1.8 MB/s eta 0:00:02\n",
      "   ----------------------------- ---------- 8.1/11.0 MB 1.8 MB/s eta 0:00:02\n",
      "   ------------------------------- -------- 8.7/11.0 MB 1.8 MB/s eta 0:00:02\n",
      "   -------------------------------- ------- 8.9/11.0 MB 1.9 MB/s eta 0:00:02\n",
      "   ---------------------------------- ----- 9.4/11.0 MB 1.8 MB/s eta 0:00:01\n",
      "   ----------------------------------- ---- 9.7/11.0 MB 1.9 MB/s eta 0:00:01\n",
      "   ------------------------------------- -- 10.2/11.0 MB 1.9 MB/s eta 0:00:01\n",
      "   ---------------------------------------  10.7/11.0 MB 1.9 MB/s eta 0:00:01\n",
      "   ---------------------------------------- 11.0/11.0 MB 1.9 MB/s eta 0:00:00\n",
      "Downloading pytz-2025.2-py2.py3-none-any.whl (509 kB)\n",
      "Downloading tzdata-2025.2-py2.py3-none-any.whl (347 kB)\n",
      "Installing collected packages: pytz, tzdata, pandas\n",
      "Successfully installed pandas-2.3.3 pytz-2025.2 tzdata-2025.2\n"
     ]
    },
    {
     "name": "stderr",
     "output_type": "stream",
     "text": [
      "\n",
      "[notice] A new release of pip is available: 24.3.1 -> 25.2\n",
      "[notice] To update, run: python.exe -m pip install --upgrade pip\n"
     ]
    }
   ],
   "source": [
    "!pip install numpy\n",
    "!pip install pandas"
   ]
  },
  {
   "cell_type": "code",
   "execution_count": 2,
   "id": "0056351e-fc08-459c-afae-e5d49c5a540a",
   "metadata": {},
   "outputs": [],
   "source": [
    "import numpy as np\n",
    "import pandas as pd\n"
   ]
  },
  {
   "cell_type": "code",
   "execution_count": null,
   "id": "0306ab5a-7554-4466-9e55-563bcb1f523c",
   "metadata": {},
   "outputs": [],
   "source": []
  }
 ],
 "metadata": {
  "kernelspec": {
   "display_name": "Python 3 (ipykernel)",
   "language": "python",
   "name": "python3"
  },
  "language_info": {
   "codemirror_mode": {
    "name": "ipython",
    "version": 3
   },
   "file_extension": ".py",
   "mimetype": "text/x-python",
   "name": "python",
   "nbconvert_exporter": "python",
   "pygments_lexer": "ipython3",
   "version": "3.12.4"
  }
 },
 "nbformat": 4,
 "nbformat_minor": 5
}
